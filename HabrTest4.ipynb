{
 "cells": [
  {
   "cell_type": "code",
   "execution_count": 41,
   "metadata": {},
   "outputs": [
    {
     "name": "stdout",
     "output_type": "stream",
     "text": [
      "Corr > 0.9:No\n"
     ]
    }
   ],
   "source": [
    "import numpy as np\n",
    "import pandas as pd\n",
    "from sklearn.feature_extraction.text import TfidfVectorizer\n",
    "from sklearn.feature_extraction import DictVectorizer\n",
    "from sklearn.model_selection import train_test_split\n",
    "from sklearn.linear_model import Ridge\n",
    "from sklearn.metrics import mean_squared_error\n",
    "import scipy\n",
    "\n",
    "train_df = pd.read_csv('Data/howpop_train.csv')\n",
    "test_df = pd.read_csv('Data/howpop_test.csv')\n",
    "\n",
    "corr_df = train_df.corr()\n",
    "\n",
    "isHas = 'No'\n",
    "for i in corr_df.columns:\n",
    "    for j in corr_df.columns:\n",
    "         if i != j and abs(corr_df[i][j]) > 0.9:\n",
    "                isHas = 'Yes'\n",
    "print('Corr > 0.9:' + isHas)"
   ]
  },
  {
   "cell_type": "code",
   "execution_count": 45,
   "metadata": {},
   "outputs": [
    {
     "data": {
      "text/plain": [
       "2015    23452\n",
       "2016    16316\n",
       "2014    16180\n",
       "2012    15972\n",
       "2013    15537\n",
       "2011    15063\n",
       "2010    13091\n",
       "2009    10783\n",
       "2008     7743\n",
       "Name: published, dtype: int64"
      ]
     },
     "execution_count": 45,
     "metadata": {},
     "output_type": "execute_result"
    }
   ],
   "source": [
    "publish = train_df['published'].map(lambda x: x.split('-')[0])\n",
    "publish.value_counts()"
   ]
  },
  {
   "cell_type": "code",
   "execution_count": 58,
   "metadata": {},
   "outputs": [
    {
     "data": {
      "text/plain": [
       "50624"
      ]
     },
     "execution_count": 58,
     "metadata": {},
     "output_type": "execute_result"
    }
   ],
   "source": [
    "features = ['author', 'flow', 'domain', 'title']\n",
    "train_size = int(0.7 * train_df.shape[0])\n",
    "x , y  = train_df[features], train_df['favs_lognorm']\n",
    "x_test = test_df[features]\n",
    "x_train, x_valid = x.iloc[:train_size, :], x.iloc[train_size:, :]\n",
    "y_train, y_valid = y.iloc[:train_size], y.iloc[train_size:]\n",
    "\n",
    "vec_title = TfidfVectorizer(min_df = 3, max_df = 0.3,   ngram_range = (1, 3))\n",
    "\n",
    "x_train_title =  vec_title.fit_transform(x_train['title'])\n",
    "x_valid_title =  vec_title.transform(x_valid['title'])\n",
    "x_test_title =  vec_title.transform(x_test['title'])\n",
    "\n",
    "len(vec_title.vocabulary_)"
   ]
  },
  {
   "cell_type": "code",
   "execution_count": 61,
   "metadata": {},
   "outputs": [
    {
     "data": {
      "text/plain": [
       "9065"
      ]
     },
     "execution_count": 61,
     "metadata": {},
     "output_type": "execute_result"
    }
   ],
   "source": [
    "vec_title.vocabulary_['python']"
   ]
  },
  {
   "cell_type": "code",
   "execution_count": 83,
   "metadata": {},
   "outputs": [
    {
     "data": {
      "text/plain": [
       "218"
      ]
     },
     "execution_count": 83,
     "metadata": {},
     "output_type": "execute_result"
    }
   ],
   "source": [
    "vec_title_char = TfidfVectorizer(analyzer = 'char')\n",
    "\n",
    "x_train_title_ch =  vec_title_char.fit_transform(x_train['title'])\n",
    "x_valid_title_ch =  vec_title_char.transform(x_valid['title'])\n",
    "x_test_title_ch =  vec_title_char.transform(x_test['title'])\n",
    "\n",
    "len(vec_title_char.vocabulary_)"
   ]
  },
  {
   "cell_type": "code",
   "execution_count": 84,
   "metadata": {},
   "outputs": [],
   "source": [
    "features  = features[:3]\n",
    "dict_vec =  DictVectorizer()\n",
    "\n",
    "x_train_f =  dict_vec.fit_transform(x_train[features].fillna('-').T.to_dict().values())\n",
    "x_valid_f =  dict_vec.transform(x_valid[features].fillna('-').T.to_dict().values())\n",
    "x_test_f =   dict_vec.transform(x_test[features].fillna('-').T.to_dict().values())\n",
    "\n",
    "x_train_end = scipy.sparse.hstack([x_train_title, x_train_f, x_train_title_ch])\n",
    "x_valid_end = scipy.sparse.hstack([x_valid_title, x_valid_f, x_valid_title_ch])\n",
    "x_test_end =  scipy.sparse.hstack([x_test_title, x_test_f, x_test_title_ch])"
   ]
  },
  {
   "cell_type": "code",
   "execution_count": 87,
   "metadata": {},
   "outputs": [
    {
     "name": "stdout",
     "output_type": "stream",
     "text": [
      "Train1:  0.5720550548564669 Valid1: 0.8875726157845648\n",
      "Train2:  0.5970371525927235 Valid2: 0.8701137380089861\n"
     ]
    }
   ],
   "source": [
    "ridge1 =  Ridge(alpha = 0.1, random_state = 1)\n",
    "ridge2 =  Ridge(alpha = 1.0, random_state = 1)\n",
    "\n",
    "ridge1.fit(x_train_end, y_train)\n",
    "ridge2.fit(x_train_end, y_train)\n",
    "\n",
    "tr_pred1 = ridge1.predict(x_train_end)\n",
    "val_pred1 = ridge1.predict(x_valid_end)\n",
    "\n",
    "tr_pred2 = ridge2.predict(x_train_end)\n",
    "val_pred2 = ridge2.predict(x_valid_end)\n",
    "\n",
    "print('Train1: ', mean_squared_error(y_train, tr_pred1) ,'Valid1:', mean_squared_error(y_valid, val_pred1) )\n",
    "print('Train2: ',mean_squared_error(y_train, tr_pred2) ,'Valid2:', mean_squared_error(y_valid, val_pred2) )"
   ]
  },
  {
   "cell_type": "code",
   "execution_count": 142,
   "metadata": {},
   "outputs": [
    {
     "name": "stdout",
     "output_type": "stream",
     "text": [
      "Train:  0.6228333977212045\n"
     ]
    }
   ],
   "source": [
    "sub = pd.read_csv('Data/sample_submission.csv', index_col = 'url')\n",
    "\n",
    "X = scipy.sparse.vstack([x_train_end, x_valid_end])\n",
    "\n",
    "ridge =  Ridge(alpha = 0.05, random_state = 42)\n",
    "ridge.fit(X, y)\n",
    "tr_preds = ridge.predict(X)\n",
    "print('Train: ', mean_squared_error(y, tr_preds))\n",
    "\n",
    "test_preds = ridge.predict(x_test_end)\n",
    "ridge_sub = sub.copy()\n",
    "ridge_sub['favs_lognorm'] = test_preds\n",
    "ridge_sub.to_csv('ridge_baseline.csv')\n"
   ]
  },
  {
   "cell_type": "code",
   "execution_count": null,
   "metadata": {},
   "outputs": [],
   "source": [
    "\n",
    "        "
   ]
  },
  {
   "cell_type": "code",
   "execution_count": null,
   "metadata": {},
   "outputs": [],
   "source": []
  }
 ],
 "metadata": {
  "kernelspec": {
   "display_name": "Python 3",
   "language": "python",
   "name": "python3"
  },
  "language_info": {
   "codemirror_mode": {
    "name": "ipython",
    "version": 3
   },
   "file_extension": ".py",
   "mimetype": "text/x-python",
   "name": "python",
   "nbconvert_exporter": "python",
   "pygments_lexer": "ipython3",
   "version": "3.6.5"
  }
 },
 "nbformat": 4,
 "nbformat_minor": 2
}
