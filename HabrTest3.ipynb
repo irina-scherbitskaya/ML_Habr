{
 "cells": [
  {
   "cell_type": "code",
   "execution_count": 108,
   "metadata": {},
   "outputs": [],
   "source": [
    "import pandas as pd\n",
    "import numpy as np\n",
    "import math\n",
    "from sklearn.tree import export_graphviz, DecisionTreeClassifier\n",
    "\n",
    "def factorize_df(df):\n",
    "    for x in list(df.columns.values):\n",
    "        df[x] = pd.factorize(df[x])[0]\n",
    "        \n",
    "def to_df(dic, feature_list):\n",
    "    df = pd.DataFrame(dic)\n",
    "    df = pd.concat([df, pd.get_dummies(df[feature_list])], axis = 1)\n",
    "    df.drop(feature_list, axis = 1, inplace = True)\n",
    "    return df\n",
    "\n",
    "features = ['Внешность', 'Алкоголь','Красноречие', \n",
    "            'Потраченные деньги']\n",
    "\n",
    "data_bar_x = {}\n",
    "data_bar_y = {}\n",
    "data_bar_test = {}\n",
    "data_bar_x['Внешность'] = ['Приятный', 'Приятный', 'Приятный', 'Неприятный', \n",
    "                               'Неприятный', 'Неприятный', 'Приятный']\n",
    "data_bar_x['Алкоголь'] = ['да', 'да', 'нет', 'нет', 'да', \n",
    "                               'да', 'да']\n",
    "data_bar_x['Красноречие'] = ['высокий', 'низкий', 'средний', 'средний', \n",
    "                                 'низкий','высокий', 'средний']\n",
    "data_bar_x['Потраченные деньги'] = ['много', 'мало', 'много', 'мало', \n",
    "                                 'много','много', 'много']\n",
    "\n",
    "data_bar_y['Поедет'] = ['+', '-', '+', '-', '-', '+', '+']\n",
    "\n",
    "data_bar_test['Внешность'] = ['Приятный', 'Приятный', 'Неприятный']\n",
    "data_bar_test['Алкоголь'] = ['нет', 'да','да']\n",
    "data_bar_test['Красноречие'] = ['средний','высокий', 'средний']\n",
    "data_bar_test['Потраченные деньги'] = ['много', 'мало', 'много']\n",
    "\n",
    "data_bar_x = to_df(data_bar_x, features)\n",
    "data_bar_y = pd.DataFrame(data_bar_y)\n",
    "data_bar_test = to_df(data_bar_test, features)\n",
    "\n",
    "factorize_df(data_bar_y)\n",
    "    \n",
    "tree =  DecisionTreeClassifier(criterion = 'entropy')\n",
    "tree.fit(data_bar_x, data_bar_y)\n",
    "export_graphviz(tree,feature_names = data_bar_x.columns, out_file='tree.dot', filled=True )\n",
    "\n",
    "tree_app = DecisionTreeClassifier(criterion = 'entropy')\n",
    "tree_app.fit(data_bar_x[['Внешность_Приятный']], data_bar_y)\n",
    "export_graphviz(tree_app,feature_names = ['Приятный'], out_file='tree2.dot', filled=True )"
   ]
  },
  {
   "cell_type": "code",
   "execution_count": 109,
   "metadata": {},
   "outputs": [
    {
     "name": "stdout",
     "output_type": "stream",
     "text": [
      "0.9927744539878083\n",
      "0.961236604722876\n",
      "0.5916727785823274\n",
      "2.584962500721156\n"
     ]
    }
   ],
   "source": [
    "def entropy(list):\n",
    "    p = dict()\n",
    "    for i in set(list):\n",
    "        p[i] = list.count(i)\n",
    "    return sum([-(x/len(list))*(math.log(x/len(list)))/math.log(2) for x in p.values()])\n",
    "\n",
    "balls = [1 for i in range(9)] + [0 for i in range(11)]\n",
    "balls_left  = [1 for i in range(8)] + [0 for i in range(5)] \n",
    "balls_right = [1 for i in range(1)] + [0 for i in range(6)] \n",
    "\n",
    "print(entropy(balls))\n",
    "print(entropy(balls_left)) \n",
    "print(entropy(balls_right))\n",
    "print(entropy([1,2,3,4,5,6]))"
   ]
  },
  {
   "cell_type": "code",
   "execution_count": 125,
   "metadata": {},
   "outputs": [
    {
     "data": {
      "text/plain": [
       "0.847122412628217"
      ]
     },
     "execution_count": 125,
     "metadata": {},
     "output_type": "execute_result"
    }
   ],
   "source": [
    "from sklearn.metrics import accuracy_score\n",
    "\n",
    "train = pd.read_csv('Data/adult_train.csv', sep = ';')\n",
    "test = pd.read_csv('Data/adult_test.csv', sep = ';')\n",
    "\n",
    "test = test[(test['Target'] == ' >50K.') | (test['Target'] ==' <=50K.')]\n",
    "\n",
    "test.at[test['Target'] == ' <=50K.', 'Target' ] = 0\n",
    "test.at[test['Target'] == ' >50K.', 'Target' ] = 1\n",
    "\n",
    "train.at[train['Target'] == '<=50K', 'Target' ] = 0\n",
    "train.at[train['Target'] == '>50K', 'Target' ] = 1\n",
    "\n",
    "test['Age'] =  test['Age'].astype(int)\n",
    "test['fnlwgt'] = test['fnlwgt'].astype(int)\n",
    "test['Education_Num'] = test['Education_Num'].astype(int)\n",
    "test['Capital_Gain'] = test['Capital_Gain'].astype(int)\n",
    "test['Capital_Loss'] = test['Capital_Loss'].astype(int)\n",
    "test['Hours_per_week'] = test['Hours_per_week'].astype(int)\n",
    "\n",
    "\n",
    "categorical_columns_train = [c for c in train.columns \n",
    "                             if train[c].dtype.name == 'object']\n",
    "numerical_columns_train = [c for c in train.columns \n",
    "                           if train[c].dtype.name != 'object']\n",
    "\n",
    "categorical_columns_test = [c for c in test.columns \n",
    "                            if test[c].dtype.name == 'object']\n",
    "numerical_columns_test = [c for c in test.columns \n",
    "                          if test[c].dtype.name != 'object']\n",
    "\n",
    "\n",
    "for c in categorical_columns_train:\n",
    "    train[c] = train[c].fillna(train[c].mode())\n",
    "for c in categorical_columns_test:\n",
    "    test[c] = test[c].fillna(test[c].mode())\n",
    "    \n",
    "for c in numerical_columns_train:\n",
    "    train[c] = train[c].fillna(train[c].median())\n",
    "for c in numerical_columns_test:\n",
    "    test[c] = test[c].fillna(test[c].median())\n",
    "\n",
    "\n",
    "columns = [ 'Workclass', 'Education' , 'Martial_Status', 'Occupation', 'Relationship',\n",
    "          'Race', 'Sex', 'Country']\n",
    "\n",
    "train = pd.concat([train,pd.get_dummies(train[columns])],axis=1)\n",
    "test = pd.concat([test,pd.get_dummies(test[columns])],axis=1)\n",
    "\n",
    "train.drop(columns, axis=1, inplace=True)\n",
    "test.drop(columns, axis=1, inplace=True)\n",
    "\n",
    "test['Country_ Holand-Netherlands'] = np.zeros([test.shape[0], 1])\n",
    "\n",
    "tree_adult =  DecisionTreeClassifier( max_depth = 9\n",
    "                        , random_state = 17)\n",
    "\n",
    "train_y = train['Target']\n",
    "test_y = test['Target']\n",
    "train.drop(['Target'], axis=1, inplace=True)\n",
    "test.drop(['Target'], axis=1, inplace=True)\n",
    "tree_adult.fit(train, train_y)\n",
    "tree_predictions = tree_adult.predict(test)\n",
    "accuracy_score(test_y, tree_predictions)"
   ]
  },
  {
   "cell_type": "code",
   "execution_count": null,
   "metadata": {},
   "outputs": [],
   "source": []
  }
 ],
 "metadata": {
  "kernelspec": {
   "display_name": "Python 3",
   "language": "python",
   "name": "python3"
  },
  "language_info": {
   "codemirror_mode": {
    "name": "ipython",
    "version": 3
   },
   "file_extension": ".py",
   "mimetype": "text/x-python",
   "name": "python",
   "nbconvert_exporter": "python",
   "pygments_lexer": "ipython3",
   "version": "3.6.5"
  }
 },
 "nbformat": 4,
 "nbformat_minor": 2
}
