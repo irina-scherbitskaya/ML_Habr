{
 "cells": [
  {
   "cell_type": "code",
   "execution_count": 2,
   "metadata": {},
   "outputs": [
    {
     "name": "stdout",
     "output_type": "stream",
     "text": [
      "<class 'pandas.core.frame.DataFrame'>\n",
      "RangeIndex: 45063 entries, 0 to 45062\n",
      "Data columns (total 8 columns):\n",
      "SeriousDlqin2yrs                        45063 non-null int64\n",
      "age                                     45063 non-null int64\n",
      "NumberOfTime30-59DaysPastDueNotWorse    45063 non-null int64\n",
      "DebtRatio                               45063 non-null float64\n",
      "NumberOfTimes90DaysLate                 45063 non-null int64\n",
      "NumberOfTime60-89DaysPastDueNotWorse    45063 non-null int64\n",
      "MonthlyIncome                           36420 non-null float64\n",
      "NumberOfDependents                      43946 non-null float64\n",
      "dtypes: float64(3), int64(5)\n",
      "memory usage: 2.8 MB\n",
      "Distribution of target\n"
     ]
    },
    {
     "data": {
      "text/plain": [
       "0    0.777511\n",
       "1    0.222489\n",
       "Name: SeriousDlqin2yrs, dtype: float64"
      ]
     },
     "execution_count": 2,
     "metadata": {},
     "output_type": "execute_result"
    }
   ],
   "source": [
    "import numpy as np\n",
    "import pandas as pd\n",
    "import matplotlib.pyplot as plt\n",
    "from sklearn.metrics import accuracy_score\n",
    "from sklearn.model_selection import GridSearchCV, StratifiedKFold\n",
    "from sklearn.ensemble import RandomForestClassifier, BaggingRegressor\n",
    "from sklearn.linear_model import LogisticRegression\n",
    "import warnings\n",
    "warnings.filterwarnings('ignore')\n",
    "np.random.seed(0)\n",
    "\n",
    "def get_bootstrap_samples(data, count):\n",
    "    return data[np.random.randint(0, len(data), (count, len(data)))]\n",
    "\n",
    "def stat_intervals(stat, alpha):\n",
    "    return np.percentile(stat, [100 * alpha / 2., 100 * (1 - alpha / 2.)])\n",
    "\n",
    "def delete_nan(data):\n",
    "    for col in data.columns:\n",
    "        data[col]= data[col].fillna(data[col].median())\n",
    "    return data \n",
    "\n",
    "data = pd.read_csv('Data/credit_scoring_sample.csv', sep =';')\n",
    "data.info()\n",
    "\n",
    "target = 'SeriousDlqin2yrs'\n",
    "features = [i for i in data.columns.values if i != target]\n",
    "X = data[features]\n",
    "y = data[target]\n",
    "X = delete_nan(X)\n",
    "\n",
    "print('Distribution of target')\n",
    "data[target].value_counts()/data.shape[0]"
   ]
  },
  {
   "cell_type": "code",
   "execution_count": 3,
   "metadata": {},
   "outputs": [
    {
     "data": {
      "text/plain": [
       "array([45.71379414, 46.12700479])"
      ]
     },
     "execution_count": 3,
     "metadata": {},
     "output_type": "execute_result"
    }
   ],
   "source": [
    "target_1 = data[data[target] == 1]['age'].values\n",
    "mean_scores = [np.mean(sample) \n",
    "               for sample in get_bootstrap_samples(target_1,1000)]\n",
    "stat_intervals(mean_scores, 0.1)"
   ]
  },
  {
   "cell_type": "code",
   "execution_count": 4,
   "metadata": {},
   "outputs": [
    {
     "name": "stdout",
     "output_type": "stream",
     "text": [
      "Fitting 5 folds for each of 7 candidates, totalling 35 fits\n"
     ]
    },
    {
     "name": "stderr",
     "output_type": "stream",
     "text": [
      "[Parallel(n_jobs=1)]: Done  35 out of  35 | elapsed:    5.5s finished\n"
     ]
    },
    {
     "data": {
      "text/plain": [
       "{'C': 0.001}"
      ]
     },
     "execution_count": 4,
     "metadata": {},
     "output_type": "execute_result"
    }
   ],
   "source": [
    "lr = LogisticRegression(random_state = 5, class_weight = 'balanced')\n",
    "parameters = {'C':  [10**i for i in range(-5, 2)]}\n",
    "skf = StratifiedKFold(n_splits = 5, shuffle = True, random_state = 5)\n",
    "gcv = GridSearchCV(lr, parameters,scoring = 'roc_auc', cv = skf, verbose = 1)\n",
    "gcv.fit(X, y)\n",
    "gcv.best_params_"
   ]
  },
  {
   "cell_type": "code",
   "execution_count": 5,
   "metadata": {},
   "outputs": [
    {
     "data": {
      "text/plain": [
       "0.6386161024680357"
      ]
     },
     "execution_count": 5,
     "metadata": {},
     "output_type": "execute_result"
    }
   ],
   "source": [
    "gcv.cv_results_['std_test_score'][gcv.best_index_]*100"
   ]
  },
  {
   "cell_type": "code",
   "execution_count": 6,
   "metadata": {},
   "outputs": [
    {
     "name": "stdout",
     "output_type": "stream",
     "text": [
      "Max weight: NumberOfTime30-59DaysPastDueNotWorse\n"
     ]
    }
   ],
   "source": [
    "lr = LogisticRegression(C = 0.001, random_state = 5, class_weight = 'balanced')\n",
    "lr.fit(X, y)\n",
    "weights = (lr.coef_ / np.linalg.norm(lr.coef_, ord = 2))[0]\n",
    "print('Max weight:', X.columns[(weights).argmax()])"
   ]
  },
  {
   "cell_type": "code",
   "execution_count": 7,
   "metadata": {},
   "outputs": [
    {
     "name": "stdout",
     "output_type": "stream",
     "text": [
      "Contribution by DebtRatio: 0.11\n"
     ]
    }
   ],
   "source": [
    "def softmax(w, index):\n",
    "    return np.exp(w[index])/(np.exp(w).sum())\n",
    "\n",
    "print('Contribution by DebtRatio:', '%.2f' % softmax(weights, X.columns.get_loc('DebtRatio')))"
   ]
  },
  {
   "cell_type": "code",
   "execution_count": 9,
   "metadata": {},
   "outputs": [
    {
     "name": "stdout",
     "output_type": "stream",
     "text": [
      "0.04\n"
     ]
    }
   ],
   "source": [
    "rf = RandomForestClassifier(n_estimators = 100, random_state = 42, oob_score = True, \n",
    "                            class_weight = 'balanced')\n",
    "parameters = {'max_features': [1, 2, 4], \n",
    "              'min_samples_leaf': [3, 5, 7, 9], \n",
    "              'max_depth': [5,10,15]}\n",
    "\n",
    "gcv_tree = GridSearchCV(estimator = rf, cv = skf, param_grid = parameters, scoring = 'roc_auc')\n",
    "gcv_tree.fit(X, y)\n",
    "print( '%.2f' % (gcv_tree.best_score_ - gcv.best_score_) )"
   ]
  },
  {
   "cell_type": "code",
   "execution_count": 10,
   "metadata": {},
   "outputs": [
    {
     "name": "stdout",
     "output_type": "stream",
     "text": [
      "Min importance: NumberOfDependents\n"
     ]
    }
   ],
   "source": [
    "clf = RandomForestClassifier(n_estimators=100, n_jobs=-1, random_state=42, oob_score=True,\n",
    "                             class_weight='balanced', max_features=2, min_samples_leaf=9, max_depth=10)\n",
    "clf.fit(X, y)\n",
    "print('Min importance:', X.columns[(clf.feature_importances_).argmin()])\n"
   ]
  },
  {
   "cell_type": "code",
   "execution_count": 12,
   "metadata": {},
   "outputs": [
    {
     "name": "stdout",
     "output_type": "stream",
     "text": [
      "0.8076172570918905 {'max_samples': 0.7, 'max_features': 2, 'base_estimator__C': 0.001}\n"
     ]
    }
   ],
   "source": [
    "from sklearn.model_selection import RandomizedSearchCV\n",
    "from sklearn.ensemble import BaggingClassifier\n",
    "parameters = {'max_features': [2, 3, 4], 'max_samples': [0.5, 0.7, 0.9], \n",
    "              \"base_estimator__C\": [0.0001, 0.001, 0.01, 1, 10, 100]}\n",
    "\n",
    "bc = BaggingClassifier(base_estimator = lr, n_estimators = 100, random_state=42)\n",
    "rsb = RandomizedSearchCV(estimator = bc, cv = skf, param_distributions = parameters, scoring = 'roc_auc',\n",
    "                         n_iter=20, random_state=1)\n",
    "rsb.fit(X, y)\n",
    "print(rsb.best_score_, rsb.best_params_)"
   ]
  },
  {
   "cell_type": "code",
   "execution_count": null,
   "metadata": {},
   "outputs": [],
   "source": []
  }
 ],
 "metadata": {
  "kernelspec": {
   "display_name": "Python 3",
   "language": "python",
   "name": "python3"
  },
  "language_info": {
   "codemirror_mode": {
    "name": "ipython",
    "version": 3
   },
   "file_extension": ".py",
   "mimetype": "text/x-python",
   "name": "python",
   "nbconvert_exporter": "python",
   "pygments_lexer": "ipython3",
   "version": "3.6.5"
  }
 },
 "nbformat": 4,
 "nbformat_minor": 2
}
